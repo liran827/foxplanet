{
 "cells": [
  {
   "cell_type": "markdown",
   "metadata": {},
   "source": [
    "# 引力透镜基础\n",
    "\n",
    "引力透镜方程 $\\beta=\\theta-\\alpha$, 这里$\\beta$是无透镜情况下，背景源在天球上的位置，$\\theta$是背景源的观测位置，$\\alpha$是偏折角。\n"
   ]
  },
  {
   "cell_type": "code",
   "execution_count": 12,
   "metadata": {},
   "outputs": [
    {
     "name": "stdout",
     "output_type": "stream",
     "text": [
      "爱因斯坦环大小=1.001911 角秒\n"
     ]
    }
   ],
   "source": [
    "#SIS Lens\n",
    "\n",
    "#velocity dispersion\n",
    "\n",
    "import numpy as np\n",
    "from astropy.cosmology import WMAP9 as cosmo\n",
    "\n",
    "\n",
    "sigma_V=200. #km/s\n",
    "VC=300000. #km/s\n",
    "\n",
    "Dl= cosmo.angular_diameter_distance_z1z2(0.,0.1) #Mpc\n",
    "Ds= cosmo.angular_diameter_distance_z1z2(0.,1.) #Mpc\n",
    "Dls= cosmo.angular_diameter_distance_z1z2(0.1,1.) #Mpc\n",
    "\n",
    "Dfact=Dls/Ds/Dl\n",
    "\n",
    "theta=4.*np.pi*sigma_V**2./VC**2.*Dls/Ds * 57.*3600.\n",
    "\n",
    "print (\"爱因斯坦环大小=%f 角秒\"%(theta))\n",
    "\n"
   ]
  }
 ],
 "metadata": {
  "kernelspec": {
   "display_name": "Python 3",
   "language": "python",
   "name": "python3"
  },
  "language_info": {
   "codemirror_mode": {
    "name": "ipython",
    "version": 3
   },
   "file_extension": ".py",
   "mimetype": "text/x-python",
   "name": "python",
   "nbconvert_exporter": "python",
   "pygments_lexer": "ipython3",
   "version": "3.7.0"
  }
 },
 "nbformat": 4,
 "nbformat_minor": 2
}
